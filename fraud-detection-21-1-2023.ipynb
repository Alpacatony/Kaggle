{
 "cells": [
  {
   "cell_type": "code",
   "execution_count": 1,
   "id": "e27c9067",
   "metadata": {
    "_cell_guid": "b1076dfc-b9ad-4769-8c92-a6c4dae69d19",
    "_uuid": "8f2839f25d086af736a60e9eeb907d3b93b6e0e5",
    "execution": {
     "iopub.execute_input": "2023-01-21T04:34:36.965659Z",
     "iopub.status.busy": "2023-01-21T04:34:36.965170Z",
     "iopub.status.idle": "2023-01-21T04:34:57.132768Z",
     "shell.execute_reply": "2023-01-21T04:34:57.131838Z"
    },
    "papermill": {
     "duration": 20.177066,
     "end_time": "2023-01-21T04:34:57.135495",
     "exception": false,
     "start_time": "2023-01-21T04:34:36.958429",
     "status": "completed"
    },
    "tags": []
   },
   "outputs": [
    {
     "name": "stdout",
     "output_type": "stream",
     "text": [
      "/kaggle/input/paysim1/PS_20174392719_1491204439457_log.csv\n"
     ]
    }
   ],
   "source": [
    "# This Python 3 environment comes with many helpful analytics libraries installed\n",
    "# It is defined by the kaggle/python Docker image: https://github.com/kaggle/docker-python\n",
    "# For example, here's several helpful packages to load\n",
    "\n",
    "import numpy as np # linear algebra\n",
    "import pandas as pd # data processing, CSV file I/O (e.g. pd.read_csv)\n",
    "import matplotlib.pyplot as plt\n",
    "# Input data files are available in the read-only \"../input/\" directory\n",
    "# For example, running this (by clicking run or pressing Shift+Enter) will list all files under the input directory\n",
    "\n",
    "import os\n",
    "for dirname, _, filenames in os.walk('/kaggle/input'):\n",
    "    for filename in filenames:\n",
    "        print(os.path.join(dirname, filename))\n",
    "df = pd.read_csv('/kaggle/input/paysim1/PS_20174392719_1491204439457_log.csv')\n",
    "\n",
    "# You can write up to 20GB to the current directory (/kaggle/working/) that gets preserved as output when you create a version using \"Save & Run All\" \n",
    "# You can also write temporary files to /kaggle/temp/, but they won't be saved outside of the current session"
   ]
  },
  {
   "cell_type": "code",
   "execution_count": 2,
   "id": "8ebc5305",
   "metadata": {
    "execution": {
     "iopub.execute_input": "2023-01-21T04:34:57.145112Z",
     "iopub.status.busy": "2023-01-21T04:34:57.144506Z",
     "iopub.status.idle": "2023-01-21T04:34:57.153359Z",
     "shell.execute_reply": "2023-01-21T04:34:57.152496Z"
    },
    "papermill": {
     "duration": 0.015904,
     "end_time": "2023-01-21T04:34:57.155417",
     "exception": false,
     "start_time": "2023-01-21T04:34:57.139513",
     "status": "completed"
    },
    "tags": []
   },
   "outputs": [
    {
     "data": {
      "text/plain": [
       "'\\n1,PAYMENT,1060.31,C429214117,1089.0,28.69,M1591654462,0.0,0.0,0,0\\n\\nstep - maps a unit of time in the real world. In this case 1 step is 1 hour of time. Total steps 744 (30 days simulation).\\n\\ntype - CASH-IN, CASH-OUT, DEBIT, PAYMENT and TRANSFER.\\n\\namount - amount of the transaction in local currency.\\n\\nnameOrig - customer who started the transaction\\n\\noldbalanceOrg - initial balance before the transaction\\n\\nnewbalanceOrig - new balance after the transaction\\n\\nnameDest - customer who is the recipient of the transaction\\n\\noldbalanceDest - initial balance recipient before the transaction. Note that there is not information for customers that start with M (Merchants).\\n\\nnewbalanceDest - new balance recipient after the transaction. Note that there is not information for customers that start with M (Merchants).\\n\\nisFraud - This is the transactions made by the fraudulent agents inside the simulation. In this specific dataset the fraudulent behavior of the agents aims to profit by taking control or customers accounts and try to empty the funds by transferring to another account and then cashing out of the system.\\n\\nisFlaggedFraud - The business model aims to control massive transfers from one account to another and flags illegal attempts. An illegal attempt in this dataset is an attempt to transfer more than 200.000 in a single transaction.\\n'"
      ]
     },
     "execution_count": 2,
     "metadata": {},
     "output_type": "execute_result"
    }
   ],
   "source": [
    "\"\"\"\n",
    "1,PAYMENT,1060.31,C429214117,1089.0,28.69,M1591654462,0.0,0.0,0,0\n",
    "\n",
    "step - maps a unit of time in the real world. In this case 1 step is 1 hour of time. Total steps 744 (30 days simulation).\n",
    "\n",
    "type - CASH-IN, CASH-OUT, DEBIT, PAYMENT and TRANSFER.\n",
    "\n",
    "amount - amount of the transaction in local currency.\n",
    "\n",
    "nameOrig - customer who started the transaction\n",
    "\n",
    "oldbalanceOrg - initial balance before the transaction\n",
    "\n",
    "newbalanceOrig - new balance after the transaction\n",
    "\n",
    "nameDest - customer who is the recipient of the transaction\n",
    "\n",
    "oldbalanceDest - initial balance recipient before the transaction. Note that there is not information for customers that start with M (Merchants).\n",
    "\n",
    "newbalanceDest - new balance recipient after the transaction. Note that there is not information for customers that start with M (Merchants).\n",
    "\n",
    "isFraud - This is the transactions made by the fraudulent agents inside the simulation. In this specific dataset the fraudulent behavior of the agents aims to profit by taking control or customers accounts and try to empty the funds by transferring to another account and then cashing out of the system.\n",
    "\n",
    "isFlaggedFraud - The business model aims to control massive transfers from one account to another and flags illegal attempts. An illegal attempt in this dataset is an attempt to transfer more than 200.000 in a single transaction.\n",
    "\"\"\""
   ]
  },
  {
   "cell_type": "markdown",
   "id": "707f26f0",
   "metadata": {
    "papermill": {
     "duration": 0.003447,
     "end_time": "2023-01-21T04:34:57.162786",
     "exception": false,
     "start_time": "2023-01-21T04:34:57.159339",
     "status": "completed"
    },
    "tags": []
   },
   "source": [
    "### Goal & Steps\n",
    "Train our model to detect fraud transactions\n",
    "1. Check our columns and figure out the meaning of each column\n",
    "2. Find out how many frauds are in the dataset\n",
    "3. Read up on how fraud detection can be done?\n",
    "4. Create features to detect fraud\n",
    "5. Split the data into a training set and testing set\n",
    "6. Normalize our features & fit Logistic Regression model\n",
    "7. Check train/test scores\n",
    "\n"
   ]
  },
  {
   "cell_type": "code",
   "execution_count": 3,
   "id": "86f9f823",
   "metadata": {
    "execution": {
     "iopub.execute_input": "2023-01-21T04:34:57.172060Z",
     "iopub.status.busy": "2023-01-21T04:34:57.171482Z",
     "iopub.status.idle": "2023-01-21T04:34:57.193296Z",
     "shell.execute_reply": "2023-01-21T04:34:57.192434Z"
    },
    "papermill": {
     "duration": 0.028981,
     "end_time": "2023-01-21T04:34:57.195399",
     "exception": false,
     "start_time": "2023-01-21T04:34:57.166418",
     "status": "completed"
    },
    "tags": []
   },
   "outputs": [
    {
     "data": {
      "text/html": [
       "<div>\n",
       "<style scoped>\n",
       "    .dataframe tbody tr th:only-of-type {\n",
       "        vertical-align: middle;\n",
       "    }\n",
       "\n",
       "    .dataframe tbody tr th {\n",
       "        vertical-align: top;\n",
       "    }\n",
       "\n",
       "    .dataframe thead th {\n",
       "        text-align: right;\n",
       "    }\n",
       "</style>\n",
       "<table border=\"1\" class=\"dataframe\">\n",
       "  <thead>\n",
       "    <tr style=\"text-align: right;\">\n",
       "      <th></th>\n",
       "      <th>step</th>\n",
       "      <th>type</th>\n",
       "      <th>amount</th>\n",
       "      <th>nameOrig</th>\n",
       "      <th>oldbalanceOrg</th>\n",
       "      <th>newbalanceOrig</th>\n",
       "      <th>nameDest</th>\n",
       "      <th>oldbalanceDest</th>\n",
       "      <th>newbalanceDest</th>\n",
       "      <th>isFraud</th>\n",
       "      <th>isFlaggedFraud</th>\n",
       "    </tr>\n",
       "  </thead>\n",
       "  <tbody>\n",
       "    <tr>\n",
       "      <th>0</th>\n",
       "      <td>1</td>\n",
       "      <td>PAYMENT</td>\n",
       "      <td>9839.64</td>\n",
       "      <td>C1231006815</td>\n",
       "      <td>170136.0</td>\n",
       "      <td>160296.36</td>\n",
       "      <td>M1979787155</td>\n",
       "      <td>0.0</td>\n",
       "      <td>0.0</td>\n",
       "      <td>0</td>\n",
       "      <td>0</td>\n",
       "    </tr>\n",
       "    <tr>\n",
       "      <th>1</th>\n",
       "      <td>1</td>\n",
       "      <td>PAYMENT</td>\n",
       "      <td>1864.28</td>\n",
       "      <td>C1666544295</td>\n",
       "      <td>21249.0</td>\n",
       "      <td>19384.72</td>\n",
       "      <td>M2044282225</td>\n",
       "      <td>0.0</td>\n",
       "      <td>0.0</td>\n",
       "      <td>0</td>\n",
       "      <td>0</td>\n",
       "    </tr>\n",
       "    <tr>\n",
       "      <th>2</th>\n",
       "      <td>1</td>\n",
       "      <td>TRANSFER</td>\n",
       "      <td>181.00</td>\n",
       "      <td>C1305486145</td>\n",
       "      <td>181.0</td>\n",
       "      <td>0.00</td>\n",
       "      <td>C553264065</td>\n",
       "      <td>0.0</td>\n",
       "      <td>0.0</td>\n",
       "      <td>1</td>\n",
       "      <td>0</td>\n",
       "    </tr>\n",
       "    <tr>\n",
       "      <th>3</th>\n",
       "      <td>1</td>\n",
       "      <td>CASH_OUT</td>\n",
       "      <td>181.00</td>\n",
       "      <td>C840083671</td>\n",
       "      <td>181.0</td>\n",
       "      <td>0.00</td>\n",
       "      <td>C38997010</td>\n",
       "      <td>21182.0</td>\n",
       "      <td>0.0</td>\n",
       "      <td>1</td>\n",
       "      <td>0</td>\n",
       "    </tr>\n",
       "    <tr>\n",
       "      <th>4</th>\n",
       "      <td>1</td>\n",
       "      <td>PAYMENT</td>\n",
       "      <td>11668.14</td>\n",
       "      <td>C2048537720</td>\n",
       "      <td>41554.0</td>\n",
       "      <td>29885.86</td>\n",
       "      <td>M1230701703</td>\n",
       "      <td>0.0</td>\n",
       "      <td>0.0</td>\n",
       "      <td>0</td>\n",
       "      <td>0</td>\n",
       "    </tr>\n",
       "  </tbody>\n",
       "</table>\n",
       "</div>"
      ],
      "text/plain": [
       "   step      type    amount     nameOrig  oldbalanceOrg  newbalanceOrig  \\\n",
       "0     1   PAYMENT   9839.64  C1231006815       170136.0       160296.36   \n",
       "1     1   PAYMENT   1864.28  C1666544295        21249.0        19384.72   \n",
       "2     1  TRANSFER    181.00  C1305486145          181.0            0.00   \n",
       "3     1  CASH_OUT    181.00   C840083671          181.0            0.00   \n",
       "4     1   PAYMENT  11668.14  C2048537720        41554.0        29885.86   \n",
       "\n",
       "      nameDest  oldbalanceDest  newbalanceDest  isFraud  isFlaggedFraud  \n",
       "0  M1979787155             0.0             0.0        0               0  \n",
       "1  M2044282225             0.0             0.0        0               0  \n",
       "2   C553264065             0.0             0.0        1               0  \n",
       "3    C38997010         21182.0             0.0        1               0  \n",
       "4  M1230701703             0.0             0.0        0               0  "
      ]
     },
     "execution_count": 3,
     "metadata": {},
     "output_type": "execute_result"
    }
   ],
   "source": [
    "df.head()"
   ]
  },
  {
   "cell_type": "code",
   "execution_count": 4,
   "id": "5b520c31",
   "metadata": {
    "execution": {
     "iopub.execute_input": "2023-01-21T04:34:57.205211Z",
     "iopub.status.busy": "2023-01-21T04:34:57.204614Z",
     "iopub.status.idle": "2023-01-21T04:34:57.219631Z",
     "shell.execute_reply": "2023-01-21T04:34:57.218346Z"
    },
    "papermill": {
     "duration": 0.022523,
     "end_time": "2023-01-21T04:34:57.221912",
     "exception": false,
     "start_time": "2023-01-21T04:34:57.199389",
     "status": "completed"
    },
    "tags": []
   },
   "outputs": [
    {
     "name": "stdout",
     "output_type": "stream",
     "text": [
      "shape: (6362620, 11)\n",
      "fraud count: 8213\n"
     ]
    }
   ],
   "source": [
    "print('shape:', df.shape) #offline mode it is (rendering is too slow)\n",
    "# how many frauds are there?\n",
    "print('fraud count:',df.isFraud.sum()) \n"
   ]
  },
  {
   "cell_type": "code",
   "execution_count": 5,
   "id": "1b90125d",
   "metadata": {
    "execution": {
     "iopub.execute_input": "2023-01-21T04:34:57.231597Z",
     "iopub.status.busy": "2023-01-21T04:34:57.231179Z",
     "iopub.status.idle": "2023-01-21T04:35:00.395176Z",
     "shell.execute_reply": "2023-01-21T04:35:00.393855Z"
    },
    "papermill": {
     "duration": 3.171837,
     "end_time": "2023-01-21T04:35:00.397803",
     "exception": false,
     "start_time": "2023-01-21T04:34:57.225966",
     "status": "completed"
    },
    "tags": []
   },
   "outputs": [
    {
     "data": {
      "text/plain": [
       "0    3592211\n",
       "1    2770409\n",
       "Name: cashmovement, dtype: int64"
      ]
     },
     "execution_count": 5,
     "metadata": {},
     "output_type": "execute_result"
    }
   ],
   "source": [
    "# Detecting fraud by checking the difference of old balance sender\n",
    "## with old balance of reciever\n",
    "\n",
    "# CASH_OUT & TRANSFER are two methods for moving money out\n",
    "df.type.value_counts()\n",
    "#df['cashmovement'] = df[df.type.isin(['CASH_OUT', 'TRANSFER')]]\n",
    "df['cashmovement'] = df.type.apply(lambda x: 1 if x in('CASH_OUT','TRANSFER') else (0))\n",
    "df.cashmovement.value_counts()"
   ]
  },
  {
   "cell_type": "code",
   "execution_count": 6,
   "id": "d4819d84",
   "metadata": {
    "execution": {
     "iopub.execute_input": "2023-01-21T04:35:00.408003Z",
     "iopub.status.busy": "2023-01-21T04:35:00.407623Z",
     "iopub.status.idle": "2023-01-21T04:35:00.911536Z",
     "shell.execute_reply": "2023-01-21T04:35:00.910355Z"
    },
    "papermill": {
     "duration": 0.511924,
     "end_time": "2023-01-21T04:35:00.913942",
     "exception": false,
     "start_time": "2023-01-21T04:35:00.402018",
     "status": "completed"
    },
    "tags": []
   },
   "outputs": [
    {
     "data": {
      "text/html": [
       "<div>\n",
       "<style scoped>\n",
       "    .dataframe tbody tr th:only-of-type {\n",
       "        vertical-align: middle;\n",
       "    }\n",
       "\n",
       "    .dataframe tbody tr th {\n",
       "        vertical-align: top;\n",
       "    }\n",
       "\n",
       "    .dataframe thead th {\n",
       "        text-align: right;\n",
       "    }\n",
       "</style>\n",
       "<table border=\"1\" class=\"dataframe\">\n",
       "  <thead>\n",
       "    <tr style=\"text-align: right;\">\n",
       "      <th></th>\n",
       "      <th>step</th>\n",
       "      <th>type</th>\n",
       "      <th>amount</th>\n",
       "      <th>nameOrig</th>\n",
       "      <th>oldbalanceOrg</th>\n",
       "      <th>newbalanceOrig</th>\n",
       "      <th>nameDest</th>\n",
       "      <th>oldbalanceDest</th>\n",
       "      <th>newbalanceDest</th>\n",
       "      <th>isFraud</th>\n",
       "      <th>isFlaggedFraud</th>\n",
       "      <th>cashmovement</th>\n",
       "      <th>balanceDiff</th>\n",
       "    </tr>\n",
       "  </thead>\n",
       "  <tbody>\n",
       "    <tr>\n",
       "      <th>0</th>\n",
       "      <td>1</td>\n",
       "      <td>PAYMENT</td>\n",
       "      <td>9839.64</td>\n",
       "      <td>C1231006815</td>\n",
       "      <td>170136.0</td>\n",
       "      <td>160296.36</td>\n",
       "      <td>M1979787155</td>\n",
       "      <td>0.0</td>\n",
       "      <td>0.0</td>\n",
       "      <td>0</td>\n",
       "      <td>0</td>\n",
       "      <td>0</td>\n",
       "      <td>170136.0</td>\n",
       "    </tr>\n",
       "    <tr>\n",
       "      <th>1</th>\n",
       "      <td>1</td>\n",
       "      <td>PAYMENT</td>\n",
       "      <td>1864.28</td>\n",
       "      <td>C1666544295</td>\n",
       "      <td>21249.0</td>\n",
       "      <td>19384.72</td>\n",
       "      <td>M2044282225</td>\n",
       "      <td>0.0</td>\n",
       "      <td>0.0</td>\n",
       "      <td>0</td>\n",
       "      <td>0</td>\n",
       "      <td>0</td>\n",
       "      <td>21249.0</td>\n",
       "    </tr>\n",
       "    <tr>\n",
       "      <th>2</th>\n",
       "      <td>1</td>\n",
       "      <td>TRANSFER</td>\n",
       "      <td>181.00</td>\n",
       "      <td>C1305486145</td>\n",
       "      <td>181.0</td>\n",
       "      <td>0.00</td>\n",
       "      <td>C553264065</td>\n",
       "      <td>0.0</td>\n",
       "      <td>0.0</td>\n",
       "      <td>1</td>\n",
       "      <td>0</td>\n",
       "      <td>1</td>\n",
       "      <td>181.0</td>\n",
       "    </tr>\n",
       "    <tr>\n",
       "      <th>3</th>\n",
       "      <td>1</td>\n",
       "      <td>CASH_OUT</td>\n",
       "      <td>181.00</td>\n",
       "      <td>C840083671</td>\n",
       "      <td>181.0</td>\n",
       "      <td>0.00</td>\n",
       "      <td>C38997010</td>\n",
       "      <td>21182.0</td>\n",
       "      <td>0.0</td>\n",
       "      <td>1</td>\n",
       "      <td>0</td>\n",
       "      <td>1</td>\n",
       "      <td>21001.0</td>\n",
       "    </tr>\n",
       "    <tr>\n",
       "      <th>4</th>\n",
       "      <td>1</td>\n",
       "      <td>PAYMENT</td>\n",
       "      <td>11668.14</td>\n",
       "      <td>C2048537720</td>\n",
       "      <td>41554.0</td>\n",
       "      <td>29885.86</td>\n",
       "      <td>M1230701703</td>\n",
       "      <td>0.0</td>\n",
       "      <td>0.0</td>\n",
       "      <td>0</td>\n",
       "      <td>0</td>\n",
       "      <td>0</td>\n",
       "      <td>41554.0</td>\n",
       "    </tr>\n",
       "  </tbody>\n",
       "</table>\n",
       "</div>"
      ],
      "text/plain": [
       "   step      type    amount     nameOrig  oldbalanceOrg  newbalanceOrig  \\\n",
       "0     1   PAYMENT   9839.64  C1231006815       170136.0       160296.36   \n",
       "1     1   PAYMENT   1864.28  C1666544295        21249.0        19384.72   \n",
       "2     1  TRANSFER    181.00  C1305486145          181.0            0.00   \n",
       "3     1  CASH_OUT    181.00   C840083671          181.0            0.00   \n",
       "4     1   PAYMENT  11668.14  C2048537720        41554.0        29885.86   \n",
       "\n",
       "      nameDest  oldbalanceDest  newbalanceDest  isFraud  isFlaggedFraud  \\\n",
       "0  M1979787155             0.0             0.0        0               0   \n",
       "1  M2044282225             0.0             0.0        0               0   \n",
       "2   C553264065             0.0             0.0        1               0   \n",
       "3    C38997010         21182.0             0.0        1               0   \n",
       "4  M1230701703             0.0             0.0        0               0   \n",
       "\n",
       "   cashmovement  balanceDiff  \n",
       "0             0     170136.0  \n",
       "1             0      21249.0  \n",
       "2             1        181.0  \n",
       "3             1      21001.0  \n",
       "4             0      41554.0  "
      ]
     },
     "execution_count": 6,
     "metadata": {},
     "output_type": "execute_result"
    }
   ],
   "source": [
    "# Finalize our features\n",
    "df['balanceDiff'] = np.abs(df.oldbalanceOrg - df.oldbalanceDest)\n",
    "features_list = ['amount', 'balanceDiff','cashmovement']\n",
    "features = df[features_list]\n",
    "label = df.isFraud\n",
    "df.head()"
   ]
  },
  {
   "cell_type": "code",
   "execution_count": 7,
   "id": "b1cb97f0",
   "metadata": {
    "execution": {
     "iopub.execute_input": "2023-01-21T04:35:00.924546Z",
     "iopub.status.busy": "2023-01-21T04:35:00.924150Z",
     "iopub.status.idle": "2023-01-21T04:35:13.861955Z",
     "shell.execute_reply": "2023-01-21T04:35:13.860432Z"
    },
    "papermill": {
     "duration": 12.947815,
     "end_time": "2023-01-21T04:35:13.866171",
     "exception": false,
     "start_time": "2023-01-21T04:35:00.918356",
     "status": "completed"
    },
    "tags": []
   },
   "outputs": [
    {
     "data": {
      "text/plain": [
       "LogisticRegression()"
      ]
     },
     "execution_count": 7,
     "metadata": {},
     "output_type": "execute_result"
    }
   ],
   "source": [
    "#Split test\n",
    "from sklearn.model_selection import train_test_split\n",
    "X_train, X_test, y_train, y_test = train_test_split(features, label, test_size=.2)\n",
    "\n",
    "#Import & Normalize Features\n",
    "from sklearn.preprocessing import StandardScaler\n",
    "model = StandardScaler()\n",
    "X_train = model.fit_transform(X_train)\n",
    "X_test = model.fit_transform(X_test)\n",
    "\n",
    "#Logistic Regression\n",
    "from sklearn.linear_model import LogisticRegression\n",
    "lr = LogisticRegression()\n",
    "lr.fit(X_train, y_train)"
   ]
  },
  {
   "cell_type": "code",
   "execution_count": 8,
   "id": "1fd6a4c6",
   "metadata": {
    "execution": {
     "iopub.execute_input": "2023-01-21T04:35:13.890928Z",
     "iopub.status.busy": "2023-01-21T04:35:13.890221Z",
     "iopub.status.idle": "2023-01-21T04:35:14.600566Z",
     "shell.execute_reply": "2023-01-21T04:35:14.599006Z"
    },
    "papermill": {
     "duration": 0.725998,
     "end_time": "2023-01-21T04:35:14.603178",
     "exception": false,
     "start_time": "2023-01-21T04:35:13.877180",
     "status": "completed"
    },
    "tags": []
   },
   "outputs": [
    {
     "name": "stdout",
     "output_type": "stream",
     "text": [
      "0.9986909873605527\n"
     ]
    }
   ],
   "source": [
    "#Train Score\n",
    "print(lr.score(X_train, y_train))\n"
   ]
  },
  {
   "cell_type": "code",
   "execution_count": 9,
   "id": "a1a5f498",
   "metadata": {
    "execution": {
     "iopub.execute_input": "2023-01-21T04:35:14.613840Z",
     "iopub.status.busy": "2023-01-21T04:35:14.613464Z",
     "iopub.status.idle": "2023-01-21T04:35:14.814500Z",
     "shell.execute_reply": "2023-01-21T04:35:14.813323Z"
    },
    "papermill": {
     "duration": 0.209059,
     "end_time": "2023-01-21T04:35:14.816899",
     "exception": false,
     "start_time": "2023-01-21T04:35:14.607840",
     "status": "completed"
    },
    "tags": []
   },
   "outputs": [
    {
     "name": "stdout",
     "output_type": "stream",
     "text": [
      "0.9986876475414216\n"
     ]
    }
   ],
   "source": [
    "#Test Score... thats pretty high?\n",
    "print(lr.score(X_test, y_test))"
   ]
  },
  {
   "cell_type": "code",
   "execution_count": 10,
   "id": "876bc517",
   "metadata": {
    "execution": {
     "iopub.execute_input": "2023-01-21T04:35:14.828609Z",
     "iopub.status.busy": "2023-01-21T04:35:14.827499Z",
     "iopub.status.idle": "2023-01-21T04:35:15.144126Z",
     "shell.execute_reply": "2023-01-21T04:35:15.142743Z"
    },
    "papermill": {
     "duration": 0.325034,
     "end_time": "2023-01-21T04:35:15.146771",
     "exception": false,
     "start_time": "2023-01-21T04:35:14.821737",
     "status": "completed"
    },
    "tags": []
   },
   "outputs": [
    {
     "name": "stdout",
     "output_type": "stream",
     "text": [
      "[[1270854      28]\n",
      " [   1642       0]]\n"
     ]
    }
   ],
   "source": [
    "# Confusion Matrix\n",
    "y_predict = lr.predict(X_test)\n",
    "from sklearn.metrics import confusion_matrix\n",
    "print(confusion_matrix(y_test, y_predict))\n",
    "\n",
    "#[TN FP\n",
    "# FN TP]"
   ]
  }
 ],
 "metadata": {
  "kernelspec": {
   "display_name": "Python 3",
   "language": "python",
   "name": "python3"
  },
  "language_info": {
   "codemirror_mode": {
    "name": "ipython",
    "version": 3
   },
   "file_extension": ".py",
   "mimetype": "text/x-python",
   "name": "python",
   "nbconvert_exporter": "python",
   "pygments_lexer": "ipython3",
   "version": "3.7.12"
  },
  "papermill": {
   "default_parameters": {},
   "duration": 47.706008,
   "end_time": "2023-01-21T04:35:16.173480",
   "environment_variables": {},
   "exception": null,
   "input_path": "__notebook__.ipynb",
   "output_path": "__notebook__.ipynb",
   "parameters": {},
   "start_time": "2023-01-21T04:34:28.467472",
   "version": "2.3.4"
  }
 },
 "nbformat": 4,
 "nbformat_minor": 5
}
